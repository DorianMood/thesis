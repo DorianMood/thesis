{
 "cells": [
  {
   "cell_type": "code",
   "execution_count": 1,
   "source": [
    "from src.helpers.datasets import VisualGenome\n",
    "import os"
   ],
   "outputs": [],
   "metadata": {}
  },
  {
   "cell_type": "code",
   "execution_count": 5,
   "source": [
    "dataset = VisualGenome(os.path.abspath('E:\\\\.visualgenome'), mode='validation')"
   ],
   "outputs": [],
   "metadata": {}
  },
  {
   "cell_type": "code",
   "execution_count": 7,
   "source": [
    "len(dataset)\n",
    "dataset[0]"
   ],
   "outputs": [
    {
     "output_type": "execute_result",
     "data": {
      "text/plain": [
       "(tensor([[[0.6510, 0.6157, 0.6157,  ..., 0.3490, 0.3451, 0.3686],\n",
       "          [0.7176, 0.6471, 0.6471,  ..., 0.4000, 0.4275, 0.4588],\n",
       "          [0.7137, 0.5922, 0.6157,  ..., 0.4118, 0.4000, 0.4471],\n",
       "          ...,\n",
       "          [0.8118, 0.8196, 0.8196,  ..., 0.7373, 0.7608, 0.7686],\n",
       "          [0.8510, 0.8353, 0.8471,  ..., 0.7922, 0.7804, 0.7922],\n",
       "          [0.8235, 0.8118, 0.8118,  ..., 0.7843, 0.7412, 0.7490]],\n",
       " \n",
       "         [[0.6157, 0.5725, 0.5647,  ..., 0.3765, 0.3686, 0.3922],\n",
       "          [0.6588, 0.5882, 0.5961,  ..., 0.4196, 0.4431, 0.4706],\n",
       "          [0.6627, 0.5412, 0.5686,  ..., 0.4314, 0.4196, 0.4627],\n",
       "          ...,\n",
       "          [0.7686, 0.7765, 0.7765,  ..., 0.6980, 0.7294, 0.7373],\n",
       "          [0.8078, 0.7922, 0.8039,  ..., 0.7529, 0.7490, 0.7608],\n",
       "          [0.7804, 0.7686, 0.7647,  ..., 0.7451, 0.7098, 0.7176]],\n",
       " \n",
       "         [[0.5059, 0.4392, 0.4157,  ..., 0.1804, 0.1373, 0.1333],\n",
       "          [0.6078, 0.4980, 0.4667,  ..., 0.2510, 0.2863, 0.2706],\n",
       "          [0.5843, 0.4078, 0.4392,  ..., 0.2588, 0.2471, 0.2471],\n",
       "          ...,\n",
       "          [0.6902, 0.6980, 0.6980,  ..., 0.6235, 0.6549, 0.6627],\n",
       "          [0.7294, 0.7137, 0.7255,  ..., 0.6824, 0.6745, 0.6863],\n",
       "          [0.6980, 0.6863, 0.6824,  ..., 0.6745, 0.6353, 0.6392]]]),\n",
       " 6.427601078167116)"
      ]
     },
     "metadata": {},
     "execution_count": 7
    }
   ],
   "metadata": {}
  },
  {
   "cell_type": "code",
   "execution_count": null,
   "source": [],
   "outputs": [],
   "metadata": {}
  }
 ],
 "metadata": {
  "orig_nbformat": 4,
  "language_info": {
   "name": "python",
   "version": "3.6.13",
   "mimetype": "text/x-python",
   "codemirror_mode": {
    "name": "ipython",
    "version": 3
   },
   "pygments_lexer": "ipython3",
   "nbconvert_exporter": "python",
   "file_extension": ".py"
  },
  "kernelspec": {
   "name": "python3",
   "display_name": "Python 3.6.13 64-bit ('layout2im': conda)"
  },
  "interpreter": {
   "hash": "904ea77939bc2a4e6f4f147d98f7e7bbab891d1dd831fad19a88199d9fbf61f9"
  }
 },
 "nbformat": 4,
 "nbformat_minor": 2
}